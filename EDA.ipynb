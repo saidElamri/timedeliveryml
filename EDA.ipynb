{
 "cells": [
  {
   "cell_type": "code",
   "execution_count": null,
   "id": "61bdd3ff",
   "metadata": {},
   "outputs": [],
   "source": [
    "import pandas as pd\n",
    "import matplotlib.pyplot as plt\n",
    "import seaborn as sns\n",
    "import os\n",
    "\n",
    "# Options d'affichage\n",
    "pd.set_option(\"display.max_columns\", None)\n",
    "sns.set_style(\"whitegrid\")\n"
   ]
  },
  {
   "cell_type": "code",
   "execution_count": null,
   "id": "b7e2b7c3",
   "metadata": {},
   "outputs": [],
   "source": [
    "# Charger le fichier CSV (assure-toi qu'il est bien dans le dossier data/)\n",
    "data_path = \"Dataa.csv\"\n",
    "\n",
    "if not os.path.exists(data_path):\n",
    "    raise FileNotFoundError(f\"Le fichier {data_path} est introuvable.\")\n",
    "\n",
    "data = pd.read_csv(data_path)\n",
    "print(f\" Données chargées : {data.shape[0]} lignes et {data.shape[1]} colonnes.\")\n",
    "data.head()\n"
   ]
  },
  {
   "cell_type": "code",
   "execution_count": null,
   "id": "f8674124",
   "metadata": {},
   "outputs": [],
   "source": [
    "# Aperçu global\n",
    "data.info()\n",
    "\n",
    "# Vérifier les valeurs manquantes\n",
    "print(\"\\nValeurs manquantes :\")\n",
    "print(data.isna().sum())\n",
    "\n",
    "# Statistiques descriptives\n",
    "data.describe(include=\"all\")\n"
   ]
  },
  {
   "cell_type": "code",
   "execution_count": null,
   "id": "a2b3c4d5",
   "metadata": {},
   "outputs": [],
   "source": [
    "# Gérer les valeurs manquantes\n",
    "# Pour les colonnes numériques, on remplace par la moyenne\n",
    "for col in ['Courier_Experience_yrs']:\n",
    "    if col in data.columns and data[col].isnull().any():\n",
    "        mean_val = data[col].mean()\n",
    "        data[col] = data[col].fillna(mean_val)\n",
    "        print(f\"Valeurs manquantes dans '{col}' remplacées par la moyenne : {mean_val:.2f}\")\n",
    "\n",
    "# Pour les colonnes catégorielles, on remplace par le mode\n",
    "for col in ['Weather', 'Traffic_Level', 'Time_of_Day']:\n",
    "    if col in data.columns and data[col].isnull().any():\n",
    "        mode_val = data[col].mode()[0]\n",
    "        data[col] = data[col].fillna(mode_val)\n",
    "        print(f\"Valeurs manquantes dans '{col}' remplacées par le mode : {mode_val}\")\n",
    "\n",
    "# Vérifier à nouveau les valeurs manquantes\n",
    "print(\"\\nNouvelles valeurs manquantes :\")\n",
    "print(data.isna().sum())"
   ]
  },
  {
   "cell_type": "code",
   "execution_count": null,
   "id": "ce2a8176",
   "metadata": {},
   "outputs": [],
   "source": [
    "#Vérification des colonnes, Définis la variable cible\n",
    "print(\"Colonnes disponibles :\", list(data.columns))\n",
    "target = \"Delivery_Time_min\"\n",
    "print(f\" Variable cible définie : {target}\")\n"
   ]
  },
  {
   "cell_type": "code",
   "execution_count": null,
   "id": "092d2083",
   "metadata": {},
   "outputs": [],
   "source": [
    "# Heatmap des corrélations (variables numériques)\n",
    "plt.figure(figsize=(10,6))\n",
    "sns.heatmap(data.corr(numeric_only=True), annot=True, cmap=\"coolwarm\")\n",
    "plt.title(\"Corrélation entre les variables numériques\")\n",
    "plt.show()\n"
   ]
  },
  {
   "cell_type": "code",
   "execution_count": null,
   "id": "78a1f029",
   "metadata": {},
   "outputs": [],
   "source": [
    "#Countplots (variables catégorielles)\n",
    "categorical_features = [\"Traffic_Level\", \"Vehicle_Type\", \"Time_of_Day\", \"Weather\"]\n",
    "\n",
    "for feature in categorical_features:\n",
    "    if feature in data.columns:\n",
    "        plt.figure(figsize=(6,4))\n",
    "        sns.countplot(x=feature, data=data)\n",
    "        plt.title(f\"Distribution de {feature}\")\n",
    "        plt.xticks(rotation=45)\n",
    "        plt.show()\n",
    "    else:\n",
    "        print(f\"La colonne '{feature}' est absente du DataFrame.\")\n"
   ]
  },
  {
   "cell_type": "code",
   "execution_count": null,
   "id": "a2582b20",
   "metadata": {},
   "outputs": [],
   "source": [
    "#Boxplots (relation entre catégorie et temps de livraison)\n",
    "for feature in categorical_features:\n",
    "    if feature in data.columns and target in data.columns:\n",
    "        plt.figure(figsize=(6,4))\n",
    "        sns.boxplot(x=feature, y=target, data=data)\n",
    "        plt.title(f\"{feature} vs {target}\")\n",
    "        plt.xticks(rotation=45)\n",
    "        plt.show()\n"
   ]
  },
  {
   "cell_type": "code",
   "execution_count": null,
   "id": "4b654521",
   "metadata": {},
   "outputs": [],
   "source": [
    "#Analyse rapide\n",
    "# Exemple : corrélation simple entre Distance et temps de livraison\n",
    "if \"Distance_km\" in data.columns and target in data.columns:\n",
    "    sns.scatterplot(x=\"Distance_km\", y=target, data=data)\n",
    "    plt.title(\"Distance vs Temps de livraison\")\n",
    "    plt.show()\n"
   ]
  },
  {
   "cell_type": "code",
   "execution_count": null,
   "id": "3d5fe884",
   "metadata": {},
   "outputs": [],
   "source": [
    "#Distribution de la variable cible\n",
    "plt.figure(figsize=(6,4))\n",
    "sns.histplot(data[target], kde=True, bins=30)\n",
    "plt.title(f\"Distribution de la variable cible : {target}\")\n",
    "plt.xlabel(target)\n",
    "plt.show()\n"
   ]
  },
  {
   "cell_type": "code",
   "execution_count": null,
   "id": "a317ef23",
   "metadata": {},
   "outputs": [],
   "source": [
    "#Relation distance / temps de livraison\n",
    "if \"Distance_km\" in data.columns and target in data.columns:\n",
    "    sns.scatterplot(x=\"Distance_km\", y=target, data=data)\n",
    "    plt.title(\"Distance vs Temps de livraison\")\n",
    "    plt.show()\n"
   ]
  },
  {
   "cell_type": "code",
   "execution_count": null,
   "id": "77dcdeea",
   "metadata": {},
   "outputs": [],
   "source": [
    "#Détection d’outliers (valeurs extrêmes)\n",
    "plt.figure(figsize=(6,4))\n",
    "sns.boxplot(x=data[target])\n",
    "plt.title(f\"Détection des outliers de {target}\")\n",
    "plt.show()\n"
   ]
  },
  {
   "cell_type": "markdown",
   "id": "c06300b5",
   "metadata": {},
   "source": [
    "Prétraitement (StandardScaler pour numérique, OneHotEncoder pour catégoriel)"
   ]
  },
  {
   "cell_type": "code",
   "execution_count": null,
   "id": "d07458f1",
   "metadata": {},
   "outputs": [],
   "source": [
    "import pandas as pd\n",
    "import numpy as np\n",
    "import matplotlib.pyplot as plt\n",
    "import seaborn as sns\n",
    "from sklearn.preprocessing import LabelEncoder\n",
    "from sklearn.feature_selection import SelectKBest, f_regression\n",
    "\n",
    "\n",
    "df = pd.read_csv(\"Dataa.csv\") \n",
    "\n",
    "# Handle missing values\n",
    "for col in df.columns:\n",
    "    if df[col].dtype == 'object':\n",
    "        df[col].fillna(df[col].mode()[0], inplace=True)  # categorical\n",
    "    else:\n",
    "        df[col].fillna(df[col].mean(), inplace=True)     # numerical\n",
    "\n",
    "\n"
   ]
  },
  {
   "cell_type": "code",
   "execution_count": null,
   "id": "ff1f8cd8",
   "metadata": {},
   "outputs": [],
   "source": [
    "# Detect and remove outliers (IQR method)\n",
    "num_cols = df.select_dtypes(include=np.number).columns\n",
    "for col in num_cols:\n",
    "    Q1 = df[col].quantile(0.25)\n",
    "    Q3 = df[col].quantile(0.75)\n",
    "    IQR = Q3 - Q1\n",
    "    lower = Q1 - 1.5 * IQR\n",
    "    upper = Q3 + 1.5 * IQR\n",
    "    df = df[(df[col] >= lower) & (df[col] <= upper)]\n",
    "\n",
    "# Encode categorical variables\n",
    "cat_cols = df.select_dtypes(include='object').columns\n",
    "for col in cat_cols:\n",
    "    le = LabelEncoder()\n",
    "    df[col] = le.fit_transform(df[col])\n",
    "\n",
    "\n",
    "\n"
   ]
  },
  {
   "cell_type": "code",
   "execution_count": null,
   "id": "da4a6f7a",
   "metadata": {},
   "outputs": [],
   "source": [
    "# Quick EDA visuals\n",
    "# Boxplots for numerical columns\n",
    "for col in num_cols:\n",
    "    plt.figure()\n",
    "    plt.boxplot(df[col])\n",
    "    plt.title(f\"Boxplot of {col}\")\n",
    "    plt.show()\n",
    "\n",
    "# Histogram of numerical columns\n",
    "df[num_cols].hist(bins=15, figsize=(15,8))\n",
    "plt.show()\n",
    "\n",
    "# Correlation heatmap\n",
    "plt.figure(figsize=(10,8))\n",
    "sns.heatmap(df.corr(), annot=True, cmap='coolwarm')\n",
    "plt.show()\n",
    "\n"
   ]
  },
  {
   "cell_type": "code",
   "execution_count": null,
   "id": "9abea6de",
   "metadata": {},
   "outputs": [],
   "source": [
    "# Feature selection (SelectKBest + f_regression)\n",
    "# Replace 'target' with your target column name\n",
    "target_col = 'Delivery_Time_min'\n",
    "X = df.drop(target_col, axis=1)\n",
    "y = df[target_col]\n",
    "\n",
    "# Select top 5 features\n",
    "selector = SelectKBest(score_func=f_regression, k=4)\n",
    "X_new = selector.fit_transform(X, y)\n",
    "selected_features = X.columns[selector.get_support()]\n",
    "print(\"Selected features:\", list(selected_features))\n",
    "\n",
    "print(\"Preprocessing, EDA, and feature selection completed!\")"
   ]
  },
  {
   "cell_type": "code",
   "execution_count": null,
   "id": "669c833f",
   "metadata": {},
   "outputs": [],
   "source": [
    "# =============================\n",
    "# Step 2: Evaluate & Compare Models\n",
    "# =============================\n",
    "\n",
    "import matplotlib.pyplot as plt\n",
    "import seaborn as sns\n",
    "\n",
    "# Residual plots\n",
    "rf_residuals = y_test - rf_pred\n",
    "plt.figure(figsize=(6,4))\n",
    "sns.scatterplot(x=rf_pred, y=rf_residuals)\n",
    "plt.axhline(0, color='red', linestyle='--')\n",
    "plt.xlabel(\"Predicted Delivery Time (RF)\")\n",
    "plt.ylabel(\"Residuals\")\n",
    "plt.title(\"Random Forest Residuals\")\n",
    "plt.show()\n",
    "\n",
    "svr_residuals = y_test - svr_pred\n",
    "plt.figure(figsize=(6,4))\n",
    "sns.scatterplot(x=svr_pred, y=svr_residuals)\n",
    "plt.axhline(0, color='red', linestyle='--')\n",
    "plt.xlabel(\"Predicted Delivery Time (SVR)\")\n",
    "plt.ylabel(\"Residuals\")\n",
    "plt.title(\"SVR Residuals\")\n",
    "plt.show()\n",
    "\n",
    "# Predicted vs Actual\n",
    "plt.figure(figsize=(6,4))\n",
    "sns.scatterplot(x=y_test, y=rf_pred, label='Random Forest')\n",
    "sns.scatterplot(x=y_test, y=svr_pred, label='SVR')\n",
    "plt.plot([y_test.min(), y_test.max()], [y_test.min(), y_test.max()], 'r--')\n",
    "plt.xlabel(\"Actual Delivery Time\")\n",
    "plt.ylabel(\"Predicted Delivery Time\")\n",
    "plt.title(\"Predictions vs Actual\")\n",
    "plt.legend()\n",
    "plt.show()\n"
   ]
  },
  {
   "cell_type": "code",
   "execution_count": 29,
   "id": "4ad7dd52",
   "metadata": {},
   "outputs": [
    {
     "name": "stdout",
     "output_type": "stream",
     "text": [
      "Final pipeline MAE: 6.18\n",
      "Final pipeline R²: 0.817\n"
     ]
    }
   ],
   "source": [
    "# =============================\n",
    "# Step 3a: Full scikit-learn pipeline\n",
    "# =============================\n",
    "\n",
    "from sklearn.compose import ColumnTransformer\n",
    "from sklearn.preprocessing import OneHotEncoder\n",
    "from sklearn.pipeline import Pipeline\n",
    "from sklearn.feature_selection import SelectKBest, f_regression\n",
    "\n",
    "# Separate numeric and categorical columns\n",
    "num_cols = X.select_dtypes(include=np.number).columns.tolist()\n",
    "cat_cols = X.select_dtypes(include='object').columns.tolist()\n",
    "\n",
    "# Preprocessing transformer\n",
    "preprocessor = ColumnTransformer([\n",
    "    ('num', StandardScaler(), num_cols),\n",
    "    ('cat', OneHotEncoder(handle_unknown='ignore'), cat_cols)\n",
    "])\n",
    "\n",
    "# Full pipeline: preprocessing + feature selection + best model\n",
    "final_pipeline = Pipeline([\n",
    "    ('preprocessing', preprocessor),\n",
    "    ('feature_selection', SelectKBest(score_func=f_regression, k=4)),\n",
    "    ('model', best_model)\n",
    "])\n",
    "\n",
    "# Fit on training data\n",
    "final_pipeline.fit(X_train, y_train)\n",
    "\n",
    "# Predict on test data\n",
    "final_pred = final_pipeline.predict(X_test)\n",
    "\n",
    "# Evaluate\n",
    "final_mae = mean_absolute_error(y_test, final_pred)\n",
    "final_r2 = r2_score(y_test, final_pred)\n",
    "print(f\"Final pipeline MAE: {final_mae:.2f}\")\n",
    "print(f\"Final pipeline R²: {final_r2:.3f}\")\n"
   ]
  },
  {
   "cell_type": "markdown",
   "id": "6ef47c1d",
   "metadata": {},
   "source": [
    "this is the Modélisation + GridSearchCV + and pipeline"
   ]
  },
  {
   "cell_type": "code",
   "execution_count": 30,
   "id": "467c5e25",
   "metadata": {},
   "outputs": [
    {
     "name": "stdout",
     "output_type": "stream",
     "text": [
      "Train set: (795, 4), Test set: (199, 4)\n",
      "Fitting 5 folds for each of 12 candidates, totalling 60 fits\n"
     ]
    },
    {
     "name": "stderr",
     "output_type": "stream",
     "text": [
      "2025/10/17 21:29:09 WARNING mlflow.models.model: `artifact_path` is deprecated. Please use `name` instead.\n",
      "2025/10/17 21:29:13 WARNING mlflow.models.model: Model logged without a signature and input example. Please set `input_example` parameter when logging the model to auto infer the model signature.\n"
     ]
    },
    {
     "name": "stdout",
     "output_type": "stream",
     "text": [
      "\n",
      "=== Random Forest Best Params ===\n",
      "{'model__max_depth': None, 'model__min_samples_split': 5, 'model__n_estimators': 100}\n",
      "Random Forest MAE: 6.50\n",
      "Random Forest R²: 0.810\n",
      "Fitting 5 folds for each of 18 candidates, totalling 90 fits\n"
     ]
    },
    {
     "name": "stderr",
     "output_type": "stream",
     "text": [
      "2025/10/17 21:29:14 WARNING mlflow.models.model: `artifact_path` is deprecated. Please use `name` instead.\n",
      "2025/10/17 21:29:18 WARNING mlflow.models.model: Model logged without a signature and input example. Please set `input_example` parameter when logging the model to auto infer the model signature.\n"
     ]
    },
    {
     "name": "stdout",
     "output_type": "stream",
     "text": [
      "\n",
      "=== SVR Best Params ===\n",
      "{'model__C': 10, 'model__epsilon': 0.1, 'model__kernel': 'rbf'}\n",
      "SVR MAE: 6.18\n",
      "SVR R²: 0.817\n",
      "\n",
      "Le meilleur modèle est: SVR\n",
      "\n",
      "Meilleur MAE: 6.18\n",
      "Meilleur R²: 0.817\n"
     ]
    }
   ],
   "source": [
    "from sklearn.model_selection import train_test_split, GridSearchCV\n",
    "from sklearn.ensemble import RandomForestRegressor\n",
    "from sklearn.svm import SVR\n",
    "from sklearn.metrics import mean_absolute_error, r2_score\n",
    "from sklearn.preprocessing import StandardScaler\n",
    "from sklearn.pipeline import Pipeline\n",
    "\n",
    "# MLflow imports\n",
    "import mlflow\n",
    "import mlflow.sklearn\n",
    "\n",
    "# 1. Définir X et y + Split\n",
    "target_col = \"Delivery_Time_min\"   \n",
    "X = df[selected_features]\n",
    "y = df[target_col]\n",
    "\n",
    "X_train, X_test, y_train, y_test = train_test_split(\n",
    "    X, y, test_size=0.2, random_state=42\n",
    ")\n",
    "print(f\"Train set: {X_train.shape}, Test set: {X_test.shape}\")\n",
    "\n",
    "# =============================\n",
    "# 2. RandomForestRegressor + GridSearch + MLflow\n",
    "# =============================\n",
    "mlflow.set_experiment(\"DeliveryTimePrediction\")\n",
    "\n",
    "with mlflow.start_run(run_name=\"RandomForest_Model\"):\n",
    "    rf_pipeline = Pipeline([\n",
    "        ('scaler', StandardScaler()),  \n",
    "        ('model', RandomForestRegressor(random_state=42))\n",
    "    ])\n",
    "\n",
    "    rf_param_grid = {\n",
    "        'model__n_estimators': [100, 200],\n",
    "        'model__max_depth': [None, 10, 20],\n",
    "        'model__min_samples_split': [2, 5],\n",
    "    }\n",
    "\n",
    "    rf_grid = GridSearchCV(\n",
    "        rf_pipeline,\n",
    "        param_grid=rf_param_grid,\n",
    "        cv=5,\n",
    "        scoring='neg_mean_absolute_error',\n",
    "        n_jobs=-1,\n",
    "        verbose=1\n",
    "    )\n",
    "    rf_grid.fit(X_train, y_train)\n",
    "    rf_best_model = rf_grid.best_estimator_\n",
    "    rf_pred = rf_best_model.predict(X_test)\n",
    "\n",
    "    rf_mae = mean_absolute_error(y_test, rf_pred)\n",
    "    rf_r2 = r2_score(y_test, rf_pred)\n",
    "\n",
    "    # Log parameters, metrics, model\n",
    "    mlflow.log_params(rf_grid.best_params_)\n",
    "    mlflow.log_metric(\"MAE\", rf_mae)\n",
    "    mlflow.log_metric(\"R2\", rf_r2)\n",
    "    mlflow.sklearn.log_model(rf_best_model, \"RandomForestPipeline\")\n",
    "\n",
    "    print(\"\\n=== Random Forest Best Params ===\")\n",
    "    print(rf_grid.best_params_)\n",
    "    print(f\"Random Forest MAE: {rf_mae:.2f}\")\n",
    "    print(f\"Random Forest R²: {rf_r2:.3f}\")\n",
    "\n",
    "# =============================\n",
    "# 3. SVR + GridSearch + MLflow\n",
    "# =============================\n",
    "with mlflow.start_run(run_name=\"SVR_Model\"):\n",
    "    svr_pipeline = Pipeline([\n",
    "        ('scaler', StandardScaler()),\n",
    "        ('model', SVR())\n",
    "    ])\n",
    "\n",
    "    svr_param_grid = {\n",
    "        'model__kernel': ['rbf', 'linear'],\n",
    "        'model__C': [0.1, 1, 10],\n",
    "        'model__epsilon': [0.1, 0.5, 1]\n",
    "    }\n",
    "\n",
    "    svr_grid = GridSearchCV(\n",
    "        svr_pipeline,\n",
    "        param_grid=svr_param_grid,\n",
    "        cv=5,\n",
    "        scoring='neg_mean_absolute_error',\n",
    "        n_jobs=-1,\n",
    "        verbose=1\n",
    "    )\n",
    "    svr_grid.fit(X_train, y_train)\n",
    "    svr_best_model = svr_grid.best_estimator_\n",
    "    svr_pred = svr_best_model.predict(X_test)\n",
    "\n",
    "    svr_mae = mean_absolute_error(y_test, svr_pred)\n",
    "    svr_r2 = r2_score(y_test, svr_pred)\n",
    "\n",
    "    # Log parameters, metrics, model\n",
    "    mlflow.log_params(svr_grid.best_params_)\n",
    "    mlflow.log_metric(\"MAE\", svr_mae)\n",
    "    mlflow.log_metric(\"R2\", svr_r2)\n",
    "    mlflow.sklearn.log_model(svr_best_model, \"SVRPipeline\")\n",
    "\n",
    "    print(\"\\n=== SVR Best Params ===\")\n",
    "    print(svr_grid.best_params_)\n",
    "    print(f\"SVR MAE: {svr_mae:.2f}\")\n",
    "    print(f\"SVR R²: {svr_r2:.3f}\")\n",
    "\n",
    "# =============================\n",
    "# 4. Choix du meilleur modèle\n",
    "# =============================\n",
    "if rf_mae < svr_mae:\n",
    "    best_model = rf_best_model\n",
    "    best_mae = rf_mae\n",
    "    best_r2 = rf_r2\n",
    "    print(\"\\nLe meilleur modèle est: RandomForestRegressor\")\n",
    "else:\n",
    "    best_model = svr_best_model\n",
    "    best_mae = svr_mae\n",
    "    best_r2 = svr_r2\n",
    "    print(\"\\nLe meilleur modèle est: SVR\")\n",
    "\n",
    "print(f\"\\nMeilleur MAE: {best_mae:.2f}\")\n",
    "print(f\"Meilleur R²: {best_r2:.3f}\")\n"
   ]
  }
 ],
 "metadata": {
  "kernelspec": {
   "display_name": "Python 3",
   "language": "python",
   "name": "python3"
  },
  "language_info": {
   "codemirror_mode": {
    "name": "ipython",
    "version": 3
   },
   "file_extension": ".py",
   "mimetype": "text/x-python",
   "name": "python",
   "nbconvert_exporter": "python",
   "pygments_lexer": "ipython3",
   "version": "3.13.7"
  }
 },
 "nbformat": 4,
 "nbformat_minor": 5
}
